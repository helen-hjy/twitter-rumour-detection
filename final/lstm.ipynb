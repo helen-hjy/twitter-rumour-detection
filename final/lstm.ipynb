{
 "cells": [
  {
   "cell_type": "code",
   "execution_count": 24,
   "metadata": {},
   "outputs": [],
   "source": [
    "import torch\n",
    "import torch.nn as nn\n",
    "import torch.nn.functional as F\n",
    "\n",
    "import json\n",
    "import pickle\n",
    "from tqdm import tqdm\n",
    "\n",
    "from sklearn.metrics import precision_recall_fscore_support\n",
    "import datetime\n",
    "\n",
    "import numpy as np\n",
    "from sklearn.metrics import f1_score"
   ]
  },
  {
   "cell_type": "code",
   "execution_count": 2,
   "metadata": {},
   "outputs": [
    {
     "name": "stderr",
     "output_type": "stream",
     "text": [
      "100%|\u001b[32m██████████\u001b[0m| 1561/1561 [01:50<00:00, 14.12it/s]\n",
      "100%|\u001b[32m██████████\u001b[0m| 534/534 [00:41<00:00, 13.01it/s]"
     ]
    },
    {
     "name": "stdout",
     "output_type": "stream",
     "text": [
      "1561 1561\n",
      "534 534\n"
     ]
    },
    {
     "name": "stderr",
     "output_type": "stream",
     "text": [
      "\n"
     ]
    }
   ],
   "source": [
    "def create_dataset(dataset_type):\n",
    "    tweet_ids = []\n",
    "    tweet_labels = []\n",
    "\n",
    "    with open(f'data/{dataset_type}.data.pro.txt', mode='r') as data_file, \\\n",
    "            open(f'data/{dataset_type}.label.pro.txt', mode='r') as label_file:\n",
    "        labels = label_file.readlines()\n",
    "        data = data_file.readlines()\n",
    "\n",
    "        for index, line in enumerate(tqdm(data, colour=\"green\")):\n",
    "            ids = [int(i) for i in line.strip().split(',')]\n",
    "            source_id = ids[0]\n",
    "\n",
    "            replies = []\n",
    "            for reply_id in ids[1:]:\n",
    "                try:\n",
    "                    with open(f'{dataset_type}-data/{reply_id}.json', 'r') as tweet_json:\n",
    "                        tweet = json.load(tweet_json)\n",
    "                        if tweet['in_reply_to_status_id'] == source_id:\n",
    "                            ts = datetime.datetime.strptime(tweet['created_at'], '%a %b %d %H:%M:%S +0000 %Y')\n",
    "                            replies.append((reply_id, ts))\n",
    "                except:\n",
    "                    continue\n",
    "            \n",
    "            sorted_by_time = sorted(replies, key=lambda tup: tup[1], reverse=True)\n",
    "            tweet_ids.append([id_ for id_, _ in sorted_by_time] + [source_id])\n",
    "            \n",
    "            tweet_labels.append(float(labels[index].strip()))\n",
    "\n",
    "    return tweet_ids, tweet_labels\n",
    "\n",
    "train_tweet_ids, train_tweet_labels = create_dataset('train')\n",
    "dev_tweet_ids, dev_tweet_labels = create_dataset('dev')\n",
    "\n",
    "print(len(train_tweet_ids), len(train_tweet_labels))\n",
    "print(len(dev_tweet_ids), len(dev_tweet_labels))"
   ]
  },
  {
   "cell_type": "code",
   "execution_count": 3,
   "metadata": {},
   "outputs": [],
   "source": [
    "with open('output/train.tfidf.pkl', 'rb') as handle:\n",
    "    train_id2tfidf = pickle.load(handle)\n",
    "\n",
    "with open(\"output/dev.tfidf.pkl\", 'rb') as handle:\n",
    "    dev_id2tfidf = pickle.load(handle)"
   ]
  },
  {
   "cell_type": "code",
   "execution_count": 4,
   "metadata": {},
   "outputs": [
    {
     "name": "stderr",
     "output_type": "stream",
     "text": [
      "100%|██████████| 1561/1561 [00:00<00:00, 4459.67it/s]\n",
      "100%|██████████| 534/534 [00:00<00:00, 4076.37it/s]\n"
     ]
    }
   ],
   "source": [
    "import pickle\n",
    "# import numpy as np\n",
    "\n",
    "twitter_id = 0\n",
    "\n",
    "def get_feature_vectors(dataset, train_or_dev):\n",
    "    feature_vecs = []\n",
    "    for tweet_ids in tqdm(dataset):\n",
    "        feature_vec = []\n",
    "        source_id = tweet_ids[0]\n",
    "\n",
    "        if train_or_dev == 'train':\n",
    "            feature_vec.append(torch.Tensor(train_id2tfidf[source_id]))\n",
    "            for reply_id in tweet_ids[1:]:\n",
    "                feature_vec.append(torch.Tensor(train_id2tfidf[reply_id]))\n",
    "        elif train_or_dev == 'dev':\n",
    "            feature_vec.append(torch.Tensor(dev_id2tfidf[source_id]))\n",
    "            for reply_id in tweet_ids[1:]:\n",
    "                feature_vec.append(torch.Tensor(dev_id2tfidf[reply_id]))\n",
    "        \n",
    "        feature_vecs.append(feature_vec)\n",
    "\n",
    "    return feature_vecs\n",
    "\n",
    "train_feature_vectors = get_feature_vectors(train_tweet_ids, 'train')\n",
    "dev_feature_vectors = get_feature_vectors(dev_tweet_ids, 'dev')"
   ]
  },
  {
   "cell_type": "code",
   "execution_count": 5,
   "metadata": {},
   "outputs": [],
   "source": [
    "class TweetDataset(torch.utils.data.Dataset):\n",
    "    def __init__(self, x, y):\n",
    "        self.x = x\n",
    "        self.y = y\n",
    "    \n",
    "    def __len__(self):\n",
    "        return len(self.x)\n",
    "\n",
    "    def __getitem__(self, index):\n",
    "        return self.x[index], self.y[index]"
   ]
  },
  {
   "cell_type": "code",
   "execution_count": 6,
   "metadata": {},
   "outputs": [],
   "source": [
    "train_set = TweetDataset(train_feature_vectors, train_tweet_labels)\n",
    "train_loader = torch.utils.data.DataLoader(train_set, batch_size=1, shuffle=True)\n",
    "\n",
    "dev_set = TweetDataset(dev_feature_vectors, dev_tweet_labels)\n",
    "dev_loader = torch.utils.data.DataLoader(dev_set, batch_size=1)"
   ]
  },
  {
   "cell_type": "code",
   "execution_count": 7,
   "metadata": {},
   "outputs": [],
   "source": [
    "class AttentionalLSTMClassifier(nn.Module):\n",
    "    def __init__(self, input_dim, hidden_dim, output_dim):\n",
    "        super(AttentionalLSTMClassifier, self).__init__()\n",
    "\n",
    "        self.hidden_dim = hidden_dim\n",
    "        self.num_layers = 2\n",
    "        \n",
    "        self.lstm = nn.LSTM(input_size=input_dim, hidden_size=hidden_dim, num_layers=self.num_layers, dropout=0.5, bidirectional=True)\n",
    "        self.dropout = nn.Dropout(0.5)\n",
    "        self.fc_out = nn.Linear(hidden_dim * 2, output_dim)\n",
    "        self.att = nn.Linear(hidden_dim * 2, 1) # attention\n",
    "\n",
    "    def forward(self, x):        \n",
    "        x = torch.stack(x)\n",
    "\n",
    "        outputs, _ = self.lstm(x) # L sequence length, N batch size, H input_size\n",
    "\n",
    "        # compute attention scores to each RNN hidden state (we use a linear function)\n",
    "        att_scores = self.att(outputs)\n",
    "\n",
    "        # rescale the attention scores using a softmax, so they sum to one\n",
    "        alpha = F.softmax(att_scores, dim=0)\n",
    "\n",
    "        # compute the \"c\" vector as a weighted combination of the RNN hidden states\n",
    "        c = torch.sum(torch.mul(outputs, alpha), dim=0)\n",
    "\n",
    "        # now couple up the c state to the output\n",
    "        output = self.fc_out(self.dropout(torch.squeeze(c, 0)))\n",
    "        \n",
    "        return output"
   ]
  },
  {
   "cell_type": "code",
   "execution_count": 8,
   "metadata": {},
   "outputs": [],
   "source": [
    "# batch = next(iter(train_loader))\n",
    "# clf = AttentionalLSTMClassifier(6000, 256, 1)\n",
    "# clf(batch[0])"
   ]
  },
  {
   "cell_type": "code",
   "execution_count": 9,
   "metadata": {},
   "outputs": [],
   "source": [
    "def move_to(obj, device):\n",
    "  if torch.is_tensor(obj):\n",
    "    return obj.to(device)\n",
    "  elif isinstance(obj, dict):\n",
    "    res = {}\n",
    "    for k, v in obj.items():\n",
    "      res[k] = move_to(v, device)\n",
    "    return res\n",
    "  elif isinstance(obj, list):\n",
    "    res = []\n",
    "    for v in obj:\n",
    "      res.append(move_to(v, device))\n",
    "    return res\n",
    "  else:\n",
    "    raise TypeError(\"Invalid type for move_to\")\n",
    "\n",
    "device = torch.device('cuda' if torch.cuda.is_available() else 'cpu')"
   ]
  },
  {
   "cell_type": "code",
   "execution_count": 10,
   "metadata": {},
   "outputs": [],
   "source": [
    "model = AttentionalLSTMClassifier(input_dim=6000, hidden_dim=512, output_dim=1).to(device)\n",
    "criterion = nn.BCEWithLogitsLoss()\n",
    "optimizer = torch.optim.Adam(model.parameters(), lr = 0.01)"
   ]
  },
  {
   "cell_type": "code",
   "execution_count": 11,
   "metadata": {},
   "outputs": [],
   "source": [
    "def train(model, criterion, optimizer, train_loader, dev_loader, n_epochs, device):\n",
    "    train_loss, train_acc, val_loss, val_acc = list(), list(), list(), list()\n",
    "    best_acc = 0\n",
    "\n",
    "    for epoch in range(1, n_epochs + 1):\n",
    "        print(f\"\\nEpoch {epoch}/{n_epochs}\")\n",
    "        model.train()\n",
    "        \n",
    "        epoch_loss = []\n",
    "        y_true = []\n",
    "        y_pred = []\n",
    "\n",
    "        for it, batch in enumerate(train_loader):\n",
    "            inputs, labels = batch\n",
    "            \n",
    "            inputs = move_to(inputs, device)\n",
    "            label = move_to(labels, device)\n",
    "\n",
    "            logits = model(inputs)\n",
    "\n",
    "            loss = criterion(logits, label)\n",
    "\n",
    "            loss.backward()\n",
    "\n",
    "            # save loss\n",
    "            epoch_loss.append(loss.item())\n",
    "            \n",
    "            # calculate f1 score\n",
    "            y_true.append(label.item())\n",
    "            probs = torch.sigmoid(logits.unsqueeze(-1))\n",
    "            soft_probs = (probs > 0.5).long()\n",
    "            y_pred.append(soft_probs.item())\n",
    "\n",
    "            if it % 32 == 0 and it > 0:\n",
    "                optimizer.step()\n",
    "                optimizer.zero_grad()\n",
    "\n",
    "        train_p, train_r, train_f, _ = precision_recall_fscore_support(y_true, y_pred, pos_label=1, average=\"binary\", zero_division=0)\n",
    "        train_epoch_loss = sum(epoch_loss) / len(epoch_loss)\n",
    "        train_loss.append(train_epoch_loss)\n",
    "        train_acc.append(train_f)\n",
    "        \n",
    "        print(f'[TRAIN] Epoch {epoch} | loss {train_epoch_loss:.4f} | f1 {train_f:.4f} | p {train_p:.4f} | r {train_r:.4f}')\n",
    "\n",
    "        p, r, f, dev_loss = evaluate(model, criterion, dev_loader, device)\n",
    "        val_loss.append(dev_loss)\n",
    "        val_acc.append(f)\n",
    "\n",
    "        print(f'[DEV] Epoch {epoch} | loss {dev_loss:.4f} | f1 {f:.4f} | p {p:.4f} | r {r:.4f}') \n",
    "        if f > best_acc:\n",
    "            print(f\"[SAVE] Best dev f1 improved from {best_acc:.4f} to {f:.4f}, saving model...\")\n",
    "            best_acc = f\n",
    "            torch.save(model.state_dict(), 'models/best_f1.mdl')\n",
    "\n",
    "    return train_loss, train_acc, val_loss, val_acc"
   ]
  },
  {
   "cell_type": "code",
   "execution_count": 12,
   "metadata": {},
   "outputs": [],
   "source": [
    "def evaluate(model, criterion, dataloader, device):\n",
    "    model.eval()\n",
    "\n",
    "    mean_loss = []\n",
    "    y_true = []\n",
    "    y_pred = []\n",
    "\n",
    "    with torch.no_grad():\n",
    "        for batch in dataloader:\n",
    "            inputs, labels = batch\n",
    "\n",
    "            inputs = move_to(inputs, device)\n",
    "            label = move_to(labels, device)\n",
    "            \n",
    "            logits = model(inputs)\n",
    "            mean_loss.append(criterion(logits, label).item())\n",
    "\n",
    "            y_true.append(label.item())\n",
    "            probs = torch.sigmoid(logits.unsqueeze(-1))\n",
    "            soft_probs = (probs > 0.5).float()\n",
    "            y_pred.append(soft_probs.item())\n",
    "\n",
    "    p, r, f, _ = precision_recall_fscore_support(y_true, y_pred, pos_label=1, average=\"binary\", zero_division=0)\n",
    "    return p, r, f, sum(mean_loss) / len(mean_loss)"
   ]
  },
  {
   "cell_type": "code",
   "execution_count": 13,
   "metadata": {},
   "outputs": [
    {
     "name": "stdout",
     "output_type": "stream",
     "text": [
      "\n",
      "Epoch 1/10\n",
      "[TRAIN] Epoch 1 | loss 0.4746 | f1 0.4020 | p 0.4207 | r 0.3849\n",
      "[DEV] Epoch 1 | loss 0.4781 | f1 0.5926 | p 0.4593 | r 0.8348\n",
      "[SAVE] Best dev f1 improved from 0.0000 to 0.5926, saving model...\n",
      "\n",
      "Epoch 2/10\n",
      "[TRAIN] Epoch 2 | loss 0.2616 | f1 0.7157 | p 0.7249 | r 0.7066\n",
      "[DEV] Epoch 2 | loss 0.2498 | f1 0.7838 | p 0.8131 | r 0.7565\n",
      "[SAVE] Best dev f1 improved from 0.5926 to 0.7838, saving model...\n",
      "\n",
      "Epoch 3/10\n",
      "[TRAIN] Epoch 3 | loss 0.0799 | f1 0.9291 | p 0.9277 | r 0.9306\n",
      "[DEV] Epoch 3 | loss 0.2680 | f1 0.8173 | p 0.9140 | r 0.7391\n",
      "[SAVE] Best dev f1 improved from 0.7838 to 0.8173, saving model...\n",
      "\n",
      "Epoch 4/10\n",
      "[TRAIN] Epoch 4 | loss 0.0187 | f1 0.9874 | p 0.9843 | r 0.9905\n",
      "[DEV] Epoch 4 | loss 0.2927 | f1 0.8393 | p 0.8624 | r 0.8174\n",
      "[SAVE] Best dev f1 improved from 0.8173 to 0.8393, saving model...\n",
      "\n",
      "Epoch 5/10\n",
      "[TRAIN] Epoch 5 | loss 0.0066 | f1 0.9953 | p 0.9968 | r 0.9937\n",
      "[DEV] Epoch 5 | loss 0.3733 | f1 0.8349 | p 0.8835 | r 0.7913\n",
      "\n",
      "Epoch 6/10\n",
      "[TRAIN] Epoch 6 | loss 0.0079 | f1 0.9984 | p 0.9969 | r 1.0000\n",
      "[DEV] Epoch 6 | loss 0.4505 | f1 0.8034 | p 0.7899 | r 0.8174\n",
      "\n",
      "Epoch 7/10\n",
      "[TRAIN] Epoch 7 | loss 0.0018 | f1 0.9984 | p 0.9969 | r 1.0000\n",
      "[DEV] Epoch 7 | loss 0.4793 | f1 0.8039 | p 0.9213 | r 0.7130\n",
      "\n",
      "Epoch 8/10\n",
      "[TRAIN] Epoch 8 | loss 0.0003 | f1 1.0000 | p 1.0000 | r 1.0000\n",
      "[DEV] Epoch 8 | loss 0.4306 | f1 0.8349 | p 0.8835 | r 0.7913\n",
      "\n",
      "Epoch 9/10\n",
      "[TRAIN] Epoch 9 | loss 0.0003 | f1 1.0000 | p 1.0000 | r 1.0000\n",
      "[DEV] Epoch 9 | loss 0.4551 | f1 0.8372 | p 0.9000 | r 0.7826\n",
      "\n",
      "Epoch 10/10\n",
      "[TRAIN] Epoch 10 | loss 0.0001 | f1 1.0000 | p 1.0000 | r 1.0000\n",
      "[DEV] Epoch 10 | loss 0.4906 | f1 0.8357 | p 0.9082 | r 0.7739\n"
     ]
    }
   ],
   "source": [
    "num_epoch = 10\n",
    "\n",
    "train_loss, train_acc, val_loss, val_acc = train(model, criterion, optimizer, train_loader, dev_loader, num_epoch, device)"
   ]
  },
  {
   "cell_type": "markdown",
   "metadata": {},
   "source": [
    "### Plot"
   ]
  },
  {
   "cell_type": "code",
   "execution_count": 14,
   "metadata": {},
   "outputs": [
    {
     "data": {
      "image/png": "[encoded data removed]",
      "text/plain": [
       "<Figure size 432x288 with 1 Axes>"
      ]
     },
     "metadata": {
      "needs_background": "light"
     },
     "output_type": "display_data"
    },
    {
     "data": {
      "image/png": "[encoded data removed]",
      "text/plain": [
       "<Figure size 432x288 with 1 Axes>"
      ]
     },
     "metadata": {
      "needs_background": "light"
     },
     "output_type": "display_data"
    }
   ],
   "source": [
    "import matplotlib.pyplot as plt\n",
    "\n",
    "epochs = range(1, len(train_acc) + 1)\n",
    "\n",
    "plt.plot(epochs, train_acc, 'b', label='Training acc')\n",
    "plt.plot(epochs, val_acc, 'r', label='Validation acc')\n",
    "plt.title('Training and validation acc')\n",
    "plt.legend()\n",
    "\n",
    "plt.figure()\n",
    "\n",
    "plt.plot(epochs, train_loss, 'b', label='Training loss')\n",
    "plt.plot(epochs, val_loss, 'r', label='Validation loss')\n",
    "plt.title('Training and validation loss')\n",
    "plt.legend()\n",
    "\n",
    "plt.show()"
   ]
  },
  {
   "cell_type": "code",
   "execution_count": 20,
   "metadata": {},
   "outputs": [],
   "source": [
    "predict_model = AttentionalLSTMClassifier(input_dim=6000, hidden_dim=512, output_dim=1).to(device)\n",
    "predict_model.load_state_dict(torch.load(f'models/best_f1.mdl'))\n",
    "predict_model.eval() # set to eval mode\n",
    "\n",
    "# dev_file_path = 'data/dev.csv'\n",
    "# dev_df = pd.read_csv(dev_file_path)\n",
    "\n",
    "# dev_dataset = TweetDataset(dev_df, tokenizer=tokenizer)\n",
    "dev_turing_loader = torch.utils.data.DataLoader(dev_set, batch_size=1)\n",
    "train_turing_loader = torch.utils.data.DataLoader(train_set, batch_size=1)\n",
    "\n",
    "y_probs = []\n",
    "y_labels = []\n",
    "\n",
    "with torch.no_grad():\n",
    "    for batch in dev_turing_loader:\n",
    "        inputs, labels = batch\n",
    "\n",
    "        inputs = move_to(inputs, device)\n",
    "        # label = move_to(labels, device)\n",
    "        \n",
    "        logits = model(inputs)\n",
    "        probs = torch.sigmoid(logits.squeeze())\n",
    "        \n",
    "        y_probs.append(probs.cpu().item())\n",
    "        y_labels.append(labels.cpu().item())"
   ]
  },
  {
   "cell_type": "code",
   "execution_count": 25,
   "metadata": {},
   "outputs": [
    {
     "name": "stdout",
     "output_type": "stream",
     "text": [
      "Best Threshold=0.007, F-Score=0.84956\n"
     ]
    }
   ],
   "source": [
    "# apply threshold to positive probabilities to create labels\n",
    "def to_labels(pos_probs, threshold):\n",
    "\treturn (pos_probs >= threshold).astype('int')\n",
    "\n",
    "# define thresholds\n",
    "thresholds = np.arange(0, 1, 0.001)\n",
    "\n",
    "# evaluate each threshold\n",
    "scores = [f1_score(y_labels, to_labels(y_probs, t), pos_label=1, average=\"binary\", zero_division=0) for t in thresholds]\n",
    "\n",
    "# get best threshold\n",
    "ix = np.argmax(scores)\n",
    "\n",
    "# print('Threshold=%.3f, F-Score=%.5f' % (thresholds[500], scores[500]))\n",
    "print('Best Threshold=%.3f, F-Score=%.5f' % (thresholds[ix], scores[ix]))\n",
    "\n",
    "threadhold = thresholds[ix]"
   ]
  }
 ],
 "metadata": {
  "kernelspec": {
   "display_name": "Python 3.8.13 ('base')",
   "language": "python",
   "name": "python3"
  },
  "language_info": {
   "codemirror_mode": {
    "name": "ipython",
    "version": 3
   },
   "file_extension": ".py",
   "mimetype": "text/x-python",
   "name": "python",
   "nbconvert_exporter": "python",
   "pygments_lexer": "ipython3",
   "version": "3.8.13"
  },
  "orig_nbformat": 4,
  "vscode": {
   "interpreter": {
    "hash": "c87ba084ad3577f62201156b6a214f43747fcd990e6832b37f5144c3f2995b83"
   }
  }
 },
 "nbformat": 4,
 "nbformat_minor": 2
}
